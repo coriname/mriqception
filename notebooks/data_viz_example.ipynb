{
 "cells": [
  {
   "cell_type": "code",
   "execution_count": 1,
   "metadata": {},
   "outputs": [],
   "source": [
    "import os\n",
    "import pandas as pd\n",
    "import csv\n",
    "import seaborn as sns\n",
    "import plotly.express as px # this is a fast way to do it\n",
    "import plotly.graph_objects as go"
   ]
  },
  {
   "cell_type": "code",
   "execution_count": null,
   "metadata": {},
   "outputs": [],
   "source": [
    "data = pd.read_csv('test_data/x_abide.csv')\n",
    "os.getcwd()"
   ]
  },
  {
   "cell_type": "code",
   "execution_count": null,
   "metadata": {},
   "outputs": [],
   "source": [
    "data.head()\n",
    "data.columns"
   ]
  },
  {
   "cell_type": "code",
   "execution_count": null,
   "metadata": {},
   "outputs": [],
   "source": [
    "# making the plot with express figures (less flexible)\n",
    "fig_express = px.violin(data, y='cjv', box=True, points='all')\n",
    "fig_express.show()"
   ]
  },
  {
   "cell_type": "code",
   "execution_count": null,
   "metadata": {},
   "outputs": [],
   "source": [
    "# let's try making the graph object version\n",
    "fig_go = go.Figure(go.Violin(y=data['cjv'], box_visible=True, line_color='black',\n",
    "                               meanline_visible=True, fillcolor='lightseagreen', opacity=0.6,\n",
    "                               x0='cjv', pointpos=-.9))\n",
    "fig_go.show()"
   ]
  },
  {
   "cell_type": "code",
   "execution_count": null,
   "metadata": {},
   "outputs": [],
   "source": [
    "help(px.violin)"
   ]
  },
  {
   "cell_type": "code",
   "execution_count": null,
   "metadata": {},
   "outputs": [],
   "source": [
    "# read an example data file\n",
    "df = pd.read_csv(\"test_data/group2_bold.tsv\", sep=\"\\t\")\n",
    "df.head()"
   ]
  },
  {
   "cell_type": "code",
   "execution_count": 182,
   "metadata": {},
   "outputs": [
    {
     "data": {
      "text/html": [
       "<div>\n",
       "<style scoped>\n",
       "    .dataframe tbody tr th:only-of-type {\n",
       "        vertical-align: middle;\n",
       "    }\n",
       "\n",
       "    .dataframe tbody tr th {\n",
       "        vertical-align: top;\n",
       "    }\n",
       "\n",
       "    .dataframe thead th {\n",
       "        text-align: right;\n",
       "    }\n",
       "</style>\n",
       "<table border=\"1\" class=\"dataframe\">\n",
       "  <thead>\n",
       "    <tr style=\"text-align: right;\">\n",
       "      <th></th>\n",
       "      <th>bids_name</th>\n",
       "      <th>var</th>\n",
       "      <th>values</th>\n",
       "    </tr>\n",
       "  </thead>\n",
       "  <tbody>\n",
       "    <tr>\n",
       "      <th>0</th>\n",
       "      <td>sub-001_task-rest_bold</td>\n",
       "      <td>aor</td>\n",
       "      <td>0.006745</td>\n",
       "    </tr>\n",
       "    <tr>\n",
       "      <th>1</th>\n",
       "      <td>sub-002_task-rest_bold</td>\n",
       "      <td>aor</td>\n",
       "      <td>0.015228</td>\n",
       "    </tr>\n",
       "    <tr>\n",
       "      <th>2</th>\n",
       "      <td>sub-005_task-rest_bold</td>\n",
       "      <td>aor</td>\n",
       "      <td>0.000861</td>\n",
       "    </tr>\n",
       "    <tr>\n",
       "      <th>3</th>\n",
       "      <td>sub-007_task-rest_bold</td>\n",
       "      <td>aor</td>\n",
       "      <td>0.001500</td>\n",
       "    </tr>\n",
       "    <tr>\n",
       "      <th>4</th>\n",
       "      <td>sub-008_task-rest_bold</td>\n",
       "      <td>aor</td>\n",
       "      <td>0.011740</td>\n",
       "    </tr>\n",
       "  </tbody>\n",
       "</table>\n",
       "</div>"
      ],
      "text/plain": [
       "                bids_name  var    values\n",
       "0  sub-001_task-rest_bold  aor  0.006745\n",
       "1  sub-002_task-rest_bold  aor  0.015228\n",
       "2  sub-005_task-rest_bold  aor  0.000861\n",
       "3  sub-007_task-rest_bold  aor  0.001500\n",
       "4  sub-008_task-rest_bold  aor  0.011740"
      ]
     },
     "execution_count": 182,
     "metadata": {},
     "output_type": "execute_result"
    }
   ],
   "source": [
    "# change the file to long format\n",
    "df_long = pd.melt(df,id_vars='bids_name',var_name='var',value_name='values')\n",
    "df_long.head()"
   ]
  },
  {
   "cell_type": "code",
   "execution_count": 184,
   "metadata": {},
   "outputs": [
    {
     "data": {
      "application/vnd.plotly.v1+json": {
       "config": {
        "plotlyServerURL": "https://plot.ly"
       },
       "data": [
        {
         "box": {
          "visible": true
         },
         "jitter": 0.1,
         "legendgroup": "user data",
         "line": {
          "color": "lightseagreen"
         },
         "meanline": {
          "visible": true
         },
         "name": "user data",
         "pointpos": -0.5,
         "points": "all",
         "scalegroup": "user data",
         "side": "negative",
         "type": "violin",
         "x": [
          "fd_mean",
          "fd_mean",
          "fd_mean",
          "fd_mean",
          "fd_mean",
          "fd_mean",
          "fd_mean",
          "fd_mean",
          "fd_mean",
          "fd_mean",
          "fd_mean",
          "fd_mean",
          "fd_mean",
          "fd_mean",
          "fd_mean",
          "fd_mean",
          "fd_mean",
          "fd_mean",
          "fd_mean",
          "fd_mean"
         ],
         "y": [
          0.17230305740867652,
          0.6121873804167405,
          0.23768877741724104,
          0.15852370318341547,
          0.4210863896744135,
          0.12088959823293048,
          0.2747692336781948,
          0.17653248499866608,
          0.17840441726488876,
          0.3197881557708839,
          0.17904180610497492,
          0.2265855746260729,
          0.1806889416734926,
          0.14649639953854351,
          0.1132857740166329,
          0.18212829732865016,
          0.2457850369603157,
          0.14766749088809306,
          0.3164981495400929,
          0.4196613969909917
         ]
        },
        {
         "box": {
          "visible": true
         },
         "legendgroup": "api",
         "line": {
          "color": "mediumpurple"
         },
         "meanline": {
          "visible": true
         },
         "name": "api",
         "scalegroup": "api",
         "side": "positive",
         "type": "violin",
         "x": [
          "fd_mean",
          "fd_mean",
          "fd_mean",
          "fd_mean",
          "fd_mean",
          "fd_mean",
          "fd_mean",
          "fd_mean",
          "fd_mean",
          "fd_mean",
          "fd_mean",
          "fd_mean",
          "fd_mean",
          "fd_mean",
          "fd_mean",
          "fd_mean",
          "fd_mean",
          "fd_mean",
          "fd_mean",
          "fd_mean",
          "fd_mean",
          "fd_mean",
          "fd_mean",
          "fd_mean",
          "fd_mean",
          "fd_mean",
          "fd_mean",
          "fd_mean",
          "fd_mean",
          "fd_mean",
          "fd_mean",
          "fd_mean",
          "fd_mean",
          "fd_mean",
          "fd_mean",
          "fd_mean",
          "fd_mean",
          "fd_mean",
          "fd_mean",
          "fd_mean",
          "fd_mean",
          "fd_mean",
          "fd_mean",
          "fd_mean",
          "fd_mean",
          "fd_mean",
          "fd_mean",
          "fd_mean",
          "fd_mean",
          "fd_mean",
          "fd_mean",
          "fd_mean",
          "fd_mean",
          "fd_mean",
          "fd_mean",
          "fd_mean",
          "fd_mean",
          "fd_mean",
          "fd_mean",
          "fd_mean",
          "fd_mean",
          "fd_mean",
          "fd_mean",
          "fd_mean",
          "fd_mean",
          "fd_mean",
          "fd_mean",
          "fd_mean",
          "fd_mean",
          "fd_mean",
          "fd_mean",
          "fd_mean",
          "fd_mean",
          "fd_mean",
          "fd_mean",
          "fd_mean",
          "fd_mean",
          "fd_mean",
          "fd_mean",
          "fd_mean",
          "fd_mean",
          "fd_mean",
          "fd_mean",
          "fd_mean",
          "fd_mean",
          "fd_mean",
          "fd_mean",
          "fd_mean",
          "fd_mean",
          "fd_mean",
          "fd_mean",
          "fd_mean",
          "fd_mean",
          "fd_mean",
          "fd_mean",
          "fd_mean",
          "fd_mean",
          "fd_mean",
          "fd_mean",
          "fd_mean",
          "fd_mean",
          "fd_mean",
          "fd_mean",
          "fd_mean",
          "fd_mean",
          "fd_mean",
          "fd_mean",
          "fd_mean",
          "fd_mean",
          "fd_mean",
          "fd_mean",
          "fd_mean",
          "fd_mean",
          "fd_mean",
          "fd_mean",
          "fd_mean",
          "fd_mean",
          "fd_mean",
          "fd_mean",
          "fd_mean",
          "fd_mean",
          "fd_mean",
          "fd_mean",
          "fd_mean",
          "fd_mean",
          "fd_mean",
          "fd_mean",
          "fd_mean",
          "fd_mean",
          "fd_mean",
          "fd_mean",
          "fd_mean",
          "fd_mean",
          "fd_mean",
          "fd_mean",
          "fd_mean",
          "fd_mean",
          "fd_mean",
          "fd_mean",
          "fd_mean",
          "fd_mean",
          "fd_mean"
         ],
         "y": [
          0.3568379083801761,
          0.4073220513805476,
          0.11897038125464535,
          0.20261679382649755,
          0.2970360894347012,
          0.15446126449233966,
          1.2807109705228958,
          0.4385471727004167,
          0.17423104709114626,
          0.1401604494525404,
          0.5593221266208634,
          0.16475929693671387,
          0.3064342337244252,
          0.14668388543708666,
          0.11918540490710035,
          0.20155070188792887,
          0.15769466042760222,
          0.16271118051132022,
          0.5013158974807705,
          0.13724838101189027,
          0.17230305740867652,
          0.6121873804167405,
          0.23768877741724104,
          0.15852370318341547,
          0.4210863896744135,
          0.12088959823293048,
          0.2747692336781948,
          0.17653248499866608,
          0.17840441726488876,
          0.3197881557708839,
          0.17904180610497492,
          0.2265855746260729,
          0.1806889416734926,
          0.14649639953854351,
          0.1132857740166329,
          0.18212829732865016,
          0.2457850369603157,
          0.14766749088809306,
          0.3164981495400929,
          0.4196613969909917,
          0.12497481145127175,
          0.19573810889714252,
          0.34460005729769283,
          0.26326868018546884,
          0.157282784930735,
          0.1836017619510729,
          0.16174459712132014,
          0.13411697727336236,
          0.14345751525610784,
          0.2344322430402833,
          0.2974796254079187,
          0.10395876214240587,
          0.25302234618090125,
          0.5726864054362377,
          0.2083998739000633,
          0.4295357149940805,
          0.2773221790550424,
          0.2378615720206201,
          1.6563832682561728,
          0.16856278832830993,
          0.21600192200632665,
          0.2480454524901965,
          0.3829174317176644,
          0.18513538553151568,
          0.23291144344320805,
          0.6472811274973427,
          0.2060155051752307,
          0.2290256915176111,
          0.2974980260406378,
          0.4820228769947703,
          0.4499572298912118,
          0.2607343456727685,
          0.4245321193418747,
          0.20679194136864776,
          0.2597056186541382,
          0.1725855832993705,
          0.2670069156866343,
          0.3324602622798182,
          0.14509009847555926,
          0.18433759357479876,
          0.18957286219263705,
          0.3111420588864747,
          0.24428824250804854,
          0.16286041201718673,
          0.2052374956497658,
          0.14948481334079128,
          0.7092350879673999,
          0.13101147965686394,
          0.16348391486667993,
          0.18734415600549595,
          0.1457322194977807,
          0.17614398620831465,
          0.3236129009479597,
          0.3039581139760881,
          0.5205108491122976,
          0.17002949450501084,
          0.22226365357660668,
          0.12751692612083404,
          0.21802655347259947,
          0.9825438366347105,
          0.2631768521251941,
          0.15163305170665686,
          0.1982625550847578,
          0.17787926818711775,
          0.2644739112595835,
          0.2552454439195581,
          0.3102615703723764,
          0.1023970462341358,
          0.19233013177301828,
          0.19542779021705076,
          0.20520532474221526,
          0.13142109334554725,
          0.14811072747561468,
          0.14739714685125765,
          0.12344035863790324,
          0.20400549111562874,
          0.15045753857101787,
          0.16123115304086405,
          0.2604704903327128,
          0.11044505041610238,
          0.2086398999864089,
          0.1142527967162882,
          0.11018906450909438,
          0.11110251165560056,
          0.1005445087057648,
          0.2352436142132657,
          0.17033957930214774,
          0.13303995787560655,
          0.18110065982310425,
          0.27586698927739794,
          0.25766382244047475,
          0.15424540228689054,
          0.24591480324953796,
          0.16838055799409887,
          0.32274715276137644,
          0.11192908558606232,
          0.1325361390927222,
          0.10823298371714543,
          0.1626458473220274,
          0.2194702930159397,
          0.061756560039971875,
          0.18208558569084973
         ]
        }
       ],
       "layout": {
        "template": {
         "data": {
          "bar": [
           {
            "error_x": {
             "color": "#2a3f5f"
            },
            "error_y": {
             "color": "#2a3f5f"
            },
            "marker": {
             "line": {
              "color": "#E5ECF6",
              "width": 0.5
             }
            },
            "type": "bar"
           }
          ],
          "barpolar": [
           {
            "marker": {
             "line": {
              "color": "#E5ECF6",
              "width": 0.5
             }
            },
            "type": "barpolar"
           }
          ],
          "carpet": [
           {
            "aaxis": {
             "endlinecolor": "#2a3f5f",
             "gridcolor": "white",
             "linecolor": "white",
             "minorgridcolor": "white",
             "startlinecolor": "#2a3f5f"
            },
            "baxis": {
             "endlinecolor": "#2a3f5f",
             "gridcolor": "white",
             "linecolor": "white",
             "minorgridcolor": "white",
             "startlinecolor": "#2a3f5f"
            },
            "type": "carpet"
           }
          ],
          "choropleth": [
           {
            "colorbar": {
             "outlinewidth": 0,
             "ticks": ""
            },
            "type": "choropleth"
           }
          ],
          "contour": [
           {
            "colorbar": {
             "outlinewidth": 0,
             "ticks": ""
            },
            "colorscale": [
             [
              0,
              "#0d0887"
             ],
             [
              0.1111111111111111,
              "#46039f"
             ],
             [
              0.2222222222222222,
              "#7201a8"
             ],
             [
              0.3333333333333333,
              "#9c179e"
             ],
             [
              0.4444444444444444,
              "#bd3786"
             ],
             [
              0.5555555555555556,
              "#d8576b"
             ],
             [
              0.6666666666666666,
              "#ed7953"
             ],
             [
              0.7777777777777778,
              "#fb9f3a"
             ],
             [
              0.8888888888888888,
              "#fdca26"
             ],
             [
              1,
              "#f0f921"
             ]
            ],
            "type": "contour"
           }
          ],
          "contourcarpet": [
           {
            "colorbar": {
             "outlinewidth": 0,
             "ticks": ""
            },
            "type": "contourcarpet"
           }
          ],
          "heatmap": [
           {
            "colorbar": {
             "outlinewidth": 0,
             "ticks": ""
            },
            "colorscale": [
             [
              0,
              "#0d0887"
             ],
             [
              0.1111111111111111,
              "#46039f"
             ],
             [
              0.2222222222222222,
              "#7201a8"
             ],
             [
              0.3333333333333333,
              "#9c179e"
             ],
             [
              0.4444444444444444,
              "#bd3786"
             ],
             [
              0.5555555555555556,
              "#d8576b"
             ],
             [
              0.6666666666666666,
              "#ed7953"
             ],
             [
              0.7777777777777778,
              "#fb9f3a"
             ],
             [
              0.8888888888888888,
              "#fdca26"
             ],
             [
              1,
              "#f0f921"
             ]
            ],
            "type": "heatmap"
           }
          ],
          "heatmapgl": [
           {
            "colorbar": {
             "outlinewidth": 0,
             "ticks": ""
            },
            "colorscale": [
             [
              0,
              "#0d0887"
             ],
             [
              0.1111111111111111,
              "#46039f"
             ],
             [
              0.2222222222222222,
              "#7201a8"
             ],
             [
              0.3333333333333333,
              "#9c179e"
             ],
             [
              0.4444444444444444,
              "#bd3786"
             ],
             [
              0.5555555555555556,
              "#d8576b"
             ],
             [
              0.6666666666666666,
              "#ed7953"
             ],
             [
              0.7777777777777778,
              "#fb9f3a"
             ],
             [
              0.8888888888888888,
              "#fdca26"
             ],
             [
              1,
              "#f0f921"
             ]
            ],
            "type": "heatmapgl"
           }
          ],
          "histogram": [
           {
            "marker": {
             "colorbar": {
              "outlinewidth": 0,
              "ticks": ""
             }
            },
            "type": "histogram"
           }
          ],
          "histogram2d": [
           {
            "colorbar": {
             "outlinewidth": 0,
             "ticks": ""
            },
            "colorscale": [
             [
              0,
              "#0d0887"
             ],
             [
              0.1111111111111111,
              "#46039f"
             ],
             [
              0.2222222222222222,
              "#7201a8"
             ],
             [
              0.3333333333333333,
              "#9c179e"
             ],
             [
              0.4444444444444444,
              "#bd3786"
             ],
             [
              0.5555555555555556,
              "#d8576b"
             ],
             [
              0.6666666666666666,
              "#ed7953"
             ],
             [
              0.7777777777777778,
              "#fb9f3a"
             ],
             [
              0.8888888888888888,
              "#fdca26"
             ],
             [
              1,
              "#f0f921"
             ]
            ],
            "type": "histogram2d"
           }
          ],
          "histogram2dcontour": [
           {
            "colorbar": {
             "outlinewidth": 0,
             "ticks": ""
            },
            "colorscale": [
             [
              0,
              "#0d0887"
             ],
             [
              0.1111111111111111,
              "#46039f"
             ],
             [
              0.2222222222222222,
              "#7201a8"
             ],
             [
              0.3333333333333333,
              "#9c179e"
             ],
             [
              0.4444444444444444,
              "#bd3786"
             ],
             [
              0.5555555555555556,
              "#d8576b"
             ],
             [
              0.6666666666666666,
              "#ed7953"
             ],
             [
              0.7777777777777778,
              "#fb9f3a"
             ],
             [
              0.8888888888888888,
              "#fdca26"
             ],
             [
              1,
              "#f0f921"
             ]
            ],
            "type": "histogram2dcontour"
           }
          ],
          "mesh3d": [
           {
            "colorbar": {
             "outlinewidth": 0,
             "ticks": ""
            },
            "type": "mesh3d"
           }
          ],
          "parcoords": [
           {
            "line": {
             "colorbar": {
              "outlinewidth": 0,
              "ticks": ""
             }
            },
            "type": "parcoords"
           }
          ],
          "scatter": [
           {
            "marker": {
             "colorbar": {
              "outlinewidth": 0,
              "ticks": ""
             }
            },
            "type": "scatter"
           }
          ],
          "scatter3d": [
           {
            "line": {
             "colorbar": {
              "outlinewidth": 0,
              "ticks": ""
             }
            },
            "marker": {
             "colorbar": {
              "outlinewidth": 0,
              "ticks": ""
             }
            },
            "type": "scatter3d"
           }
          ],
          "scattercarpet": [
           {
            "marker": {
             "colorbar": {
              "outlinewidth": 0,
              "ticks": ""
             }
            },
            "type": "scattercarpet"
           }
          ],
          "scattergeo": [
           {
            "marker": {
             "colorbar": {
              "outlinewidth": 0,
              "ticks": ""
             }
            },
            "type": "scattergeo"
           }
          ],
          "scattergl": [
           {
            "marker": {
             "colorbar": {
              "outlinewidth": 0,
              "ticks": ""
             }
            },
            "type": "scattergl"
           }
          ],
          "scattermapbox": [
           {
            "marker": {
             "colorbar": {
              "outlinewidth": 0,
              "ticks": ""
             }
            },
            "type": "scattermapbox"
           }
          ],
          "scatterpolar": [
           {
            "marker": {
             "colorbar": {
              "outlinewidth": 0,
              "ticks": ""
             }
            },
            "type": "scatterpolar"
           }
          ],
          "scatterpolargl": [
           {
            "marker": {
             "colorbar": {
              "outlinewidth": 0,
              "ticks": ""
             }
            },
            "type": "scatterpolargl"
           }
          ],
          "scatterternary": [
           {
            "marker": {
             "colorbar": {
              "outlinewidth": 0,
              "ticks": ""
             }
            },
            "type": "scatterternary"
           }
          ],
          "surface": [
           {
            "colorbar": {
             "outlinewidth": 0,
             "ticks": ""
            },
            "colorscale": [
             [
              0,
              "#0d0887"
             ],
             [
              0.1111111111111111,
              "#46039f"
             ],
             [
              0.2222222222222222,
              "#7201a8"
             ],
             [
              0.3333333333333333,
              "#9c179e"
             ],
             [
              0.4444444444444444,
              "#bd3786"
             ],
             [
              0.5555555555555556,
              "#d8576b"
             ],
             [
              0.6666666666666666,
              "#ed7953"
             ],
             [
              0.7777777777777778,
              "#fb9f3a"
             ],
             [
              0.8888888888888888,
              "#fdca26"
             ],
             [
              1,
              "#f0f921"
             ]
            ],
            "type": "surface"
           }
          ],
          "table": [
           {
            "cells": {
             "fill": {
              "color": "#EBF0F8"
             },
             "line": {
              "color": "white"
             }
            },
            "header": {
             "fill": {
              "color": "#C8D4E3"
             },
             "line": {
              "color": "white"
             }
            },
            "type": "table"
           }
          ]
         },
         "layout": {
          "annotationdefaults": {
           "arrowcolor": "#2a3f5f",
           "arrowhead": 0,
           "arrowwidth": 1
          },
          "colorscale": {
           "diverging": [
            [
             0,
             "#8e0152"
            ],
            [
             0.1,
             "#c51b7d"
            ],
            [
             0.2,
             "#de77ae"
            ],
            [
             0.3,
             "#f1b6da"
            ],
            [
             0.4,
             "#fde0ef"
            ],
            [
             0.5,
             "#f7f7f7"
            ],
            [
             0.6,
             "#e6f5d0"
            ],
            [
             0.7,
             "#b8e186"
            ],
            [
             0.8,
             "#7fbc41"
            ],
            [
             0.9,
             "#4d9221"
            ],
            [
             1,
             "#276419"
            ]
           ],
           "sequential": [
            [
             0,
             "#0d0887"
            ],
            [
             0.1111111111111111,
             "#46039f"
            ],
            [
             0.2222222222222222,
             "#7201a8"
            ],
            [
             0.3333333333333333,
             "#9c179e"
            ],
            [
             0.4444444444444444,
             "#bd3786"
            ],
            [
             0.5555555555555556,
             "#d8576b"
            ],
            [
             0.6666666666666666,
             "#ed7953"
            ],
            [
             0.7777777777777778,
             "#fb9f3a"
            ],
            [
             0.8888888888888888,
             "#fdca26"
            ],
            [
             1,
             "#f0f921"
            ]
           ],
           "sequentialminus": [
            [
             0,
             "#0d0887"
            ],
            [
             0.1111111111111111,
             "#46039f"
            ],
            [
             0.2222222222222222,
             "#7201a8"
            ],
            [
             0.3333333333333333,
             "#9c179e"
            ],
            [
             0.4444444444444444,
             "#bd3786"
            ],
            [
             0.5555555555555556,
             "#d8576b"
            ],
            [
             0.6666666666666666,
             "#ed7953"
            ],
            [
             0.7777777777777778,
             "#fb9f3a"
            ],
            [
             0.8888888888888888,
             "#fdca26"
            ],
            [
             1,
             "#f0f921"
            ]
           ]
          },
          "colorway": [
           "#636efa",
           "#EF553B",
           "#00cc96",
           "#ab63fa",
           "#FFA15A",
           "#19d3f3",
           "#FF6692",
           "#B6E880",
           "#FF97FF",
           "#FECB52"
          ],
          "font": {
           "color": "#2a3f5f"
          },
          "geo": {
           "bgcolor": "white",
           "lakecolor": "white",
           "landcolor": "#E5ECF6",
           "showlakes": true,
           "showland": true,
           "subunitcolor": "white"
          },
          "hoverlabel": {
           "align": "left"
          },
          "hovermode": "closest",
          "mapbox": {
           "style": "light"
          },
          "paper_bgcolor": "white",
          "plot_bgcolor": "#E5ECF6",
          "polar": {
           "angularaxis": {
            "gridcolor": "white",
            "linecolor": "white",
            "ticks": ""
           },
           "bgcolor": "#E5ECF6",
           "radialaxis": {
            "gridcolor": "white",
            "linecolor": "white",
            "ticks": ""
           }
          },
          "scene": {
           "xaxis": {
            "backgroundcolor": "#E5ECF6",
            "gridcolor": "white",
            "gridwidth": 2,
            "linecolor": "white",
            "showbackground": true,
            "ticks": "",
            "zerolinecolor": "white"
           },
           "yaxis": {
            "backgroundcolor": "#E5ECF6",
            "gridcolor": "white",
            "gridwidth": 2,
            "linecolor": "white",
            "showbackground": true,
            "ticks": "",
            "zerolinecolor": "white"
           },
           "zaxis": {
            "backgroundcolor": "#E5ECF6",
            "gridcolor": "white",
            "gridwidth": 2,
            "linecolor": "white",
            "showbackground": true,
            "ticks": "",
            "zerolinecolor": "white"
           }
          },
          "shapedefaults": {
           "line": {
            "color": "#2a3f5f"
           }
          },
          "ternary": {
           "aaxis": {
            "gridcolor": "white",
            "linecolor": "white",
            "ticks": ""
           },
           "baxis": {
            "gridcolor": "white",
            "linecolor": "white",
            "ticks": ""
           },
           "bgcolor": "#E5ECF6",
           "caxis": {
            "gridcolor": "white",
            "linecolor": "white",
            "ticks": ""
           }
          },
          "title": {
           "x": 0.05
          },
          "xaxis": {
           "automargin": true,
           "gridcolor": "white",
           "linecolor": "white",
           "ticks": "",
           "zerolinecolor": "white",
           "zerolinewidth": 2
          },
          "yaxis": {
           "automargin": true,
           "gridcolor": "white",
           "linecolor": "white",
           "ticks": "",
           "zerolinecolor": "white",
           "zerolinewidth": 2
          }
         }
        }
       }
      },
      "text/html": [
       "<div>\n",
       "        \n",
       "        \n",
       "            <div id=\"e202d0fb-2bf7-4ba3-91fb-de3b16d0b8f2\" class=\"plotly-graph-div\" style=\"height:525px; width:100%;\"></div>\n",
       "            <script type=\"text/javascript\">\n",
       "                require([\"plotly\"], function(Plotly) {\n",
       "                    window.PLOTLYENV=window.PLOTLYENV || {};\n",
       "                    \n",
       "                if (document.getElementById(\"e202d0fb-2bf7-4ba3-91fb-de3b16d0b8f2\")) {\n",
       "                    Plotly.newPlot(\n",
       "                        'e202d0fb-2bf7-4ba3-91fb-de3b16d0b8f2',\n",
       "                        [{\"box\": {\"visible\": true}, \"jitter\": 0.1, \"legendgroup\": \"user data\", \"line\": {\"color\": \"lightseagreen\"}, \"meanline\": {\"visible\": true}, \"name\": \"user data\", \"pointpos\": -0.5, \"points\": \"all\", \"scalegroup\": \"user data\", \"side\": \"negative\", \"type\": \"violin\", \"x\": [\"fd_mean\", \"fd_mean\", \"fd_mean\", \"fd_mean\", \"fd_mean\", \"fd_mean\", \"fd_mean\", \"fd_mean\", \"fd_mean\", \"fd_mean\", \"fd_mean\", \"fd_mean\", \"fd_mean\", \"fd_mean\", \"fd_mean\", \"fd_mean\", \"fd_mean\", \"fd_mean\", \"fd_mean\", \"fd_mean\"], \"y\": [0.17230305740867652, 0.6121873804167405, 0.23768877741724104, 0.15852370318341547, 0.4210863896744135, 0.12088959823293048, 0.2747692336781948, 0.17653248499866608, 0.17840441726488876, 0.3197881557708839, 0.17904180610497492, 0.2265855746260729, 0.1806889416734926, 0.14649639953854351, 0.1132857740166329, 0.18212829732865016, 0.2457850369603157, 0.14766749088809306, 0.3164981495400929, 0.4196613969909917]}, {\"box\": {\"visible\": true}, \"legendgroup\": \"api\", \"line\": {\"color\": \"mediumpurple\"}, \"meanline\": {\"visible\": true}, \"name\": \"api\", \"scalegroup\": \"api\", \"side\": \"positive\", \"type\": \"violin\", \"x\": [\"fd_mean\", \"fd_mean\", \"fd_mean\", \"fd_mean\", \"fd_mean\", \"fd_mean\", \"fd_mean\", \"fd_mean\", \"fd_mean\", \"fd_mean\", \"fd_mean\", \"fd_mean\", \"fd_mean\", \"fd_mean\", \"fd_mean\", \"fd_mean\", \"fd_mean\", \"fd_mean\", \"fd_mean\", \"fd_mean\", \"fd_mean\", \"fd_mean\", \"fd_mean\", \"fd_mean\", \"fd_mean\", \"fd_mean\", \"fd_mean\", \"fd_mean\", \"fd_mean\", \"fd_mean\", \"fd_mean\", \"fd_mean\", \"fd_mean\", \"fd_mean\", \"fd_mean\", \"fd_mean\", \"fd_mean\", \"fd_mean\", \"fd_mean\", \"fd_mean\", \"fd_mean\", \"fd_mean\", \"fd_mean\", \"fd_mean\", \"fd_mean\", \"fd_mean\", \"fd_mean\", \"fd_mean\", \"fd_mean\", \"fd_mean\", \"fd_mean\", \"fd_mean\", \"fd_mean\", \"fd_mean\", \"fd_mean\", \"fd_mean\", \"fd_mean\", \"fd_mean\", \"fd_mean\", \"fd_mean\", \"fd_mean\", \"fd_mean\", \"fd_mean\", \"fd_mean\", \"fd_mean\", \"fd_mean\", \"fd_mean\", \"fd_mean\", \"fd_mean\", \"fd_mean\", \"fd_mean\", \"fd_mean\", \"fd_mean\", \"fd_mean\", \"fd_mean\", \"fd_mean\", \"fd_mean\", \"fd_mean\", \"fd_mean\", \"fd_mean\", \"fd_mean\", \"fd_mean\", \"fd_mean\", \"fd_mean\", \"fd_mean\", \"fd_mean\", \"fd_mean\", \"fd_mean\", \"fd_mean\", \"fd_mean\", \"fd_mean\", \"fd_mean\", \"fd_mean\", \"fd_mean\", \"fd_mean\", \"fd_mean\", \"fd_mean\", \"fd_mean\", \"fd_mean\", \"fd_mean\", \"fd_mean\", \"fd_mean\", \"fd_mean\", \"fd_mean\", \"fd_mean\", \"fd_mean\", \"fd_mean\", \"fd_mean\", \"fd_mean\", \"fd_mean\", \"fd_mean\", \"fd_mean\", \"fd_mean\", \"fd_mean\", \"fd_mean\", \"fd_mean\", \"fd_mean\", \"fd_mean\", \"fd_mean\", \"fd_mean\", \"fd_mean\", \"fd_mean\", \"fd_mean\", \"fd_mean\", \"fd_mean\", \"fd_mean\", \"fd_mean\", \"fd_mean\", \"fd_mean\", \"fd_mean\", \"fd_mean\", \"fd_mean\", \"fd_mean\", \"fd_mean\", \"fd_mean\", \"fd_mean\", \"fd_mean\", \"fd_mean\", \"fd_mean\", \"fd_mean\", \"fd_mean\", \"fd_mean\"], \"y\": [0.3568379083801761, 0.4073220513805476, 0.11897038125464535, 0.20261679382649755, 0.2970360894347012, 0.15446126449233966, 1.2807109705228958, 0.4385471727004167, 0.17423104709114626, 0.1401604494525404, 0.5593221266208634, 0.16475929693671387, 0.3064342337244252, 0.14668388543708666, 0.11918540490710035, 0.20155070188792887, 0.15769466042760222, 0.16271118051132022, 0.5013158974807705, 0.13724838101189027, 0.17230305740867652, 0.6121873804167405, 0.23768877741724104, 0.15852370318341547, 0.4210863896744135, 0.12088959823293048, 0.2747692336781948, 0.17653248499866608, 0.17840441726488876, 0.3197881557708839, 0.17904180610497492, 0.2265855746260729, 0.1806889416734926, 0.14649639953854351, 0.1132857740166329, 0.18212829732865016, 0.2457850369603157, 0.14766749088809306, 0.3164981495400929, 0.4196613969909917, 0.12497481145127175, 0.19573810889714252, 0.34460005729769283, 0.26326868018546884, 0.157282784930735, 0.1836017619510729, 0.16174459712132014, 0.13411697727336236, 0.14345751525610784, 0.2344322430402833, 0.2974796254079187, 0.10395876214240587, 0.25302234618090125, 0.5726864054362377, 0.2083998739000633, 0.4295357149940805, 0.2773221790550424, 0.2378615720206201, 1.6563832682561728, 0.16856278832830993, 0.21600192200632665, 0.2480454524901965, 0.3829174317176644, 0.18513538553151568, 0.23291144344320805, 0.6472811274973427, 0.2060155051752307, 0.2290256915176111, 0.2974980260406378, 0.4820228769947703, 0.4499572298912118, 0.2607343456727685, 0.4245321193418747, 0.20679194136864776, 0.2597056186541382, 0.1725855832993705, 0.2670069156866343, 0.3324602622798182, 0.14509009847555926, 0.18433759357479876, 0.18957286219263705, 0.3111420588864747, 0.24428824250804854, 0.16286041201718673, 0.2052374956497658, 0.14948481334079128, 0.7092350879673999, 0.13101147965686394, 0.16348391486667993, 0.18734415600549595, 0.1457322194977807, 0.17614398620831465, 0.3236129009479597, 0.3039581139760881, 0.5205108491122976, 0.17002949450501084, 0.22226365357660668, 0.12751692612083404, 0.21802655347259947, 0.9825438366347105, 0.2631768521251941, 0.15163305170665686, 0.1982625550847578, 0.17787926818711775, 0.2644739112595835, 0.2552454439195581, 0.3102615703723764, 0.1023970462341358, 0.19233013177301828, 0.19542779021705076, 0.20520532474221526, 0.13142109334554725, 0.14811072747561468, 0.14739714685125765, 0.12344035863790324, 0.20400549111562874, 0.15045753857101787, 0.16123115304086405, 0.2604704903327128, 0.11044505041610238, 0.2086398999864089, 0.1142527967162882, 0.11018906450909438, 0.11110251165560056, 0.1005445087057648, 0.2352436142132657, 0.17033957930214774, 0.13303995787560655, 0.18110065982310425, 0.27586698927739794, 0.25766382244047475, 0.15424540228689054, 0.24591480324953796, 0.16838055799409887, 0.32274715276137644, 0.11192908558606232, 0.1325361390927222, 0.10823298371714543, 0.1626458473220274, 0.2194702930159397, 0.061756560039971875, 0.18208558569084973]}],\n",
       "                        {\"template\": {\"data\": {\"bar\": [{\"error_x\": {\"color\": \"#2a3f5f\"}, \"error_y\": {\"color\": \"#2a3f5f\"}, \"marker\": {\"line\": {\"color\": \"#E5ECF6\", \"width\": 0.5}}, \"type\": \"bar\"}], \"barpolar\": [{\"marker\": {\"line\": {\"color\": \"#E5ECF6\", \"width\": 0.5}}, \"type\": \"barpolar\"}], \"carpet\": [{\"aaxis\": {\"endlinecolor\": \"#2a3f5f\", \"gridcolor\": \"white\", \"linecolor\": \"white\", \"minorgridcolor\": \"white\", \"startlinecolor\": \"#2a3f5f\"}, \"baxis\": {\"endlinecolor\": \"#2a3f5f\", \"gridcolor\": \"white\", \"linecolor\": \"white\", \"minorgridcolor\": \"white\", \"startlinecolor\": \"#2a3f5f\"}, \"type\": \"carpet\"}], \"choropleth\": [{\"colorbar\": {\"outlinewidth\": 0, \"ticks\": \"\"}, \"type\": \"choropleth\"}], \"contour\": [{\"colorbar\": {\"outlinewidth\": 0, \"ticks\": \"\"}, \"colorscale\": [[0.0, \"#0d0887\"], [0.1111111111111111, \"#46039f\"], [0.2222222222222222, \"#7201a8\"], [0.3333333333333333, \"#9c179e\"], [0.4444444444444444, \"#bd3786\"], [0.5555555555555556, \"#d8576b\"], [0.6666666666666666, \"#ed7953\"], [0.7777777777777778, \"#fb9f3a\"], [0.8888888888888888, \"#fdca26\"], [1.0, \"#f0f921\"]], \"type\": \"contour\"}], \"contourcarpet\": [{\"colorbar\": {\"outlinewidth\": 0, \"ticks\": \"\"}, \"type\": \"contourcarpet\"}], \"heatmap\": [{\"colorbar\": {\"outlinewidth\": 0, \"ticks\": \"\"}, \"colorscale\": [[0.0, \"#0d0887\"], [0.1111111111111111, \"#46039f\"], [0.2222222222222222, \"#7201a8\"], [0.3333333333333333, \"#9c179e\"], [0.4444444444444444, \"#bd3786\"], [0.5555555555555556, \"#d8576b\"], [0.6666666666666666, \"#ed7953\"], [0.7777777777777778, \"#fb9f3a\"], [0.8888888888888888, \"#fdca26\"], [1.0, \"#f0f921\"]], \"type\": \"heatmap\"}], \"heatmapgl\": [{\"colorbar\": {\"outlinewidth\": 0, \"ticks\": \"\"}, \"colorscale\": [[0.0, \"#0d0887\"], [0.1111111111111111, \"#46039f\"], [0.2222222222222222, \"#7201a8\"], [0.3333333333333333, \"#9c179e\"], [0.4444444444444444, \"#bd3786\"], [0.5555555555555556, \"#d8576b\"], [0.6666666666666666, \"#ed7953\"], [0.7777777777777778, \"#fb9f3a\"], [0.8888888888888888, \"#fdca26\"], [1.0, \"#f0f921\"]], \"type\": \"heatmapgl\"}], \"histogram\": [{\"marker\": {\"colorbar\": {\"outlinewidth\": 0, \"ticks\": \"\"}}, \"type\": \"histogram\"}], \"histogram2d\": [{\"colorbar\": {\"outlinewidth\": 0, \"ticks\": \"\"}, \"colorscale\": [[0.0, \"#0d0887\"], [0.1111111111111111, \"#46039f\"], [0.2222222222222222, \"#7201a8\"], [0.3333333333333333, \"#9c179e\"], [0.4444444444444444, \"#bd3786\"], [0.5555555555555556, \"#d8576b\"], [0.6666666666666666, \"#ed7953\"], [0.7777777777777778, \"#fb9f3a\"], [0.8888888888888888, \"#fdca26\"], [1.0, \"#f0f921\"]], \"type\": \"histogram2d\"}], \"histogram2dcontour\": [{\"colorbar\": {\"outlinewidth\": 0, \"ticks\": \"\"}, \"colorscale\": [[0.0, \"#0d0887\"], [0.1111111111111111, \"#46039f\"], [0.2222222222222222, \"#7201a8\"], [0.3333333333333333, \"#9c179e\"], [0.4444444444444444, \"#bd3786\"], [0.5555555555555556, \"#d8576b\"], [0.6666666666666666, \"#ed7953\"], [0.7777777777777778, \"#fb9f3a\"], [0.8888888888888888, \"#fdca26\"], [1.0, \"#f0f921\"]], \"type\": \"histogram2dcontour\"}], \"mesh3d\": [{\"colorbar\": {\"outlinewidth\": 0, \"ticks\": \"\"}, \"type\": \"mesh3d\"}], \"parcoords\": [{\"line\": {\"colorbar\": {\"outlinewidth\": 0, \"ticks\": \"\"}}, \"type\": \"parcoords\"}], \"scatter\": [{\"marker\": {\"colorbar\": {\"outlinewidth\": 0, \"ticks\": \"\"}}, \"type\": \"scatter\"}], \"scatter3d\": [{\"line\": {\"colorbar\": {\"outlinewidth\": 0, \"ticks\": \"\"}}, \"marker\": {\"colorbar\": {\"outlinewidth\": 0, \"ticks\": \"\"}}, \"type\": \"scatter3d\"}], \"scattercarpet\": [{\"marker\": {\"colorbar\": {\"outlinewidth\": 0, \"ticks\": \"\"}}, \"type\": \"scattercarpet\"}], \"scattergeo\": [{\"marker\": {\"colorbar\": {\"outlinewidth\": 0, \"ticks\": \"\"}}, \"type\": \"scattergeo\"}], \"scattergl\": [{\"marker\": {\"colorbar\": {\"outlinewidth\": 0, \"ticks\": \"\"}}, \"type\": \"scattergl\"}], \"scattermapbox\": [{\"marker\": {\"colorbar\": {\"outlinewidth\": 0, \"ticks\": \"\"}}, \"type\": \"scattermapbox\"}], \"scatterpolar\": [{\"marker\": {\"colorbar\": {\"outlinewidth\": 0, \"ticks\": \"\"}}, \"type\": \"scatterpolar\"}], \"scatterpolargl\": [{\"marker\": {\"colorbar\": {\"outlinewidth\": 0, \"ticks\": \"\"}}, \"type\": \"scatterpolargl\"}], \"scatterternary\": [{\"marker\": {\"colorbar\": {\"outlinewidth\": 0, \"ticks\": \"\"}}, \"type\": \"scatterternary\"}], \"surface\": [{\"colorbar\": {\"outlinewidth\": 0, \"ticks\": \"\"}, \"colorscale\": [[0.0, \"#0d0887\"], [0.1111111111111111, \"#46039f\"], [0.2222222222222222, \"#7201a8\"], [0.3333333333333333, \"#9c179e\"], [0.4444444444444444, \"#bd3786\"], [0.5555555555555556, \"#d8576b\"], [0.6666666666666666, \"#ed7953\"], [0.7777777777777778, \"#fb9f3a\"], [0.8888888888888888, \"#fdca26\"], [1.0, \"#f0f921\"]], \"type\": \"surface\"}], \"table\": [{\"cells\": {\"fill\": {\"color\": \"#EBF0F8\"}, \"line\": {\"color\": \"white\"}}, \"header\": {\"fill\": {\"color\": \"#C8D4E3\"}, \"line\": {\"color\": \"white\"}}, \"type\": \"table\"}]}, \"layout\": {\"annotationdefaults\": {\"arrowcolor\": \"#2a3f5f\", \"arrowhead\": 0, \"arrowwidth\": 1}, \"colorscale\": {\"diverging\": [[0, \"#8e0152\"], [0.1, \"#c51b7d\"], [0.2, \"#de77ae\"], [0.3, \"#f1b6da\"], [0.4, \"#fde0ef\"], [0.5, \"#f7f7f7\"], [0.6, \"#e6f5d0\"], [0.7, \"#b8e186\"], [0.8, \"#7fbc41\"], [0.9, \"#4d9221\"], [1, \"#276419\"]], \"sequential\": [[0.0, \"#0d0887\"], [0.1111111111111111, \"#46039f\"], [0.2222222222222222, \"#7201a8\"], [0.3333333333333333, \"#9c179e\"], [0.4444444444444444, \"#bd3786\"], [0.5555555555555556, \"#d8576b\"], [0.6666666666666666, \"#ed7953\"], [0.7777777777777778, \"#fb9f3a\"], [0.8888888888888888, \"#fdca26\"], [1.0, \"#f0f921\"]], \"sequentialminus\": [[0.0, \"#0d0887\"], [0.1111111111111111, \"#46039f\"], [0.2222222222222222, \"#7201a8\"], [0.3333333333333333, \"#9c179e\"], [0.4444444444444444, \"#bd3786\"], [0.5555555555555556, \"#d8576b\"], [0.6666666666666666, \"#ed7953\"], [0.7777777777777778, \"#fb9f3a\"], [0.8888888888888888, \"#fdca26\"], [1.0, \"#f0f921\"]]}, \"colorway\": [\"#636efa\", \"#EF553B\", \"#00cc96\", \"#ab63fa\", \"#FFA15A\", \"#19d3f3\", \"#FF6692\", \"#B6E880\", \"#FF97FF\", \"#FECB52\"], \"font\": {\"color\": \"#2a3f5f\"}, \"geo\": {\"bgcolor\": \"white\", \"lakecolor\": \"white\", \"landcolor\": \"#E5ECF6\", \"showlakes\": true, \"showland\": true, \"subunitcolor\": \"white\"}, \"hoverlabel\": {\"align\": \"left\"}, \"hovermode\": \"closest\", \"mapbox\": {\"style\": \"light\"}, \"paper_bgcolor\": \"white\", \"plot_bgcolor\": \"#E5ECF6\", \"polar\": {\"angularaxis\": {\"gridcolor\": \"white\", \"linecolor\": \"white\", \"ticks\": \"\"}, \"bgcolor\": \"#E5ECF6\", \"radialaxis\": {\"gridcolor\": \"white\", \"linecolor\": \"white\", \"ticks\": \"\"}}, \"scene\": {\"xaxis\": {\"backgroundcolor\": \"#E5ECF6\", \"gridcolor\": \"white\", \"gridwidth\": 2, \"linecolor\": \"white\", \"showbackground\": true, \"ticks\": \"\", \"zerolinecolor\": \"white\"}, \"yaxis\": {\"backgroundcolor\": \"#E5ECF6\", \"gridcolor\": \"white\", \"gridwidth\": 2, \"linecolor\": \"white\", \"showbackground\": true, \"ticks\": \"\", \"zerolinecolor\": \"white\"}, \"zaxis\": {\"backgroundcolor\": \"#E5ECF6\", \"gridcolor\": \"white\", \"gridwidth\": 2, \"linecolor\": \"white\", \"showbackground\": true, \"ticks\": \"\", \"zerolinecolor\": \"white\"}}, \"shapedefaults\": {\"line\": {\"color\": \"#2a3f5f\"}}, \"ternary\": {\"aaxis\": {\"gridcolor\": \"white\", \"linecolor\": \"white\", \"ticks\": \"\"}, \"baxis\": {\"gridcolor\": \"white\", \"linecolor\": \"white\", \"ticks\": \"\"}, \"bgcolor\": \"#E5ECF6\", \"caxis\": {\"gridcolor\": \"white\", \"linecolor\": \"white\", \"ticks\": \"\"}}, \"title\": {\"x\": 0.05}, \"xaxis\": {\"automargin\": true, \"gridcolor\": \"white\", \"linecolor\": \"white\", \"ticks\": \"\", \"zerolinecolor\": \"white\", \"zerolinewidth\": 2}, \"yaxis\": {\"automargin\": true, \"gridcolor\": \"white\", \"linecolor\": \"white\", \"ticks\": \"\", \"zerolinecolor\": \"white\", \"zerolinewidth\": 2}}}},\n",
       "                        {\"responsive\": true}\n",
       "                    ).then(function(){\n",
       "                            \n",
       "var gd = document.getElementById('e202d0fb-2bf7-4ba3-91fb-de3b16d0b8f2');\n",
       "var x = new MutationObserver(function (mutations, observer) {{\n",
       "        var display = window.getComputedStyle(gd).display;\n",
       "        if (!display || display === 'none') {{\n",
       "            console.log([gd, 'removed!']);\n",
       "            Plotly.purge(gd);\n",
       "            observer.disconnect();\n",
       "        }}\n",
       "}});\n",
       "\n",
       "// Listen for the removal of the full notebook cells\n",
       "var notebookContainer = gd.closest('#notebook-container');\n",
       "if (notebookContainer) {{\n",
       "    x.observe(notebookContainer, {childList: true});\n",
       "}}\n",
       "\n",
       "// Listen for the clearing of the current output cell\n",
       "var outputEl = gd.closest('.output');\n",
       "if (outputEl) {{\n",
       "    x.observe(outputEl, {childList: true});\n",
       "}}\n",
       "\n",
       "                        })\n",
       "                };\n",
       "                });\n",
       "            </script>\n",
       "        </div>"
      ]
     },
     "metadata": {},
     "output_type": "display_data"
    }
   ],
   "source": [
    "# create a split violin plot for a single variable\n",
    "fig = go.Figure()\n",
    "var_name = 'fd_mean' # the variable you want to plot\n",
    "# the 'my data' variable is a subset of the original df for plotting reasons\n",
    "# replace it with the actual user data\n",
    "user_data = df_long[df_long['var'] == var_name][20:40]\n",
    "fig.add_trace(go.Violin(x=user_data[['var']][user_data['var']==var_name]['var'],\n",
    "                        y=user_data[['values']][user_data['var']==var_name]['values'],\n",
    "                        legendgroup='user data', scalegroup='user data', name='user data',\n",
    "                        side='negative',\n",
    "                        points='all',\n",
    "                        pointpos=-0.5, # where to position points\n",
    "                        jitter=0.1,\n",
    "                        line_color='lightseagreen')\n",
    "             )\n",
    "fig.add_trace(go.Violin(x=df_long[['var']][df_long['var']==var_name]['var'],\n",
    "                        y=df_long[['values']][df_long['var']==var_name]['values'],\n",
    "                        legendgroup='api', scalegroup='api', name='api',\n",
    "                        side='positive',\n",
    "                        line_color='mediumpurple')\n",
    "             )\n",
    "# update characteristics shared by all traces\n",
    "fig.update_traces(meanline_visible=True,\n",
    "                  box_visible=True) #scale violin plot area with total count\n",
    "fig.show()"
   ]
  }
 ],
 "metadata": {
  "kernelspec": {
   "display_name": "Python 3",
   "language": "python",
   "name": "python3"
  },
  "language_info": {
   "codemirror_mode": {
    "name": "ipython",
    "version": 3
   },
   "file_extension": ".py",
   "mimetype": "text/x-python",
   "name": "python",
   "nbconvert_exporter": "python",
   "pygments_lexer": "ipython3",
   "version": "3.7.3"
  }
 },
 "nbformat": 4,
 "nbformat_minor": 2
}
