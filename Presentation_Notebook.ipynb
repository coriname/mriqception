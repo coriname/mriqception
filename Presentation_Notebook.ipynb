{
 "cells": [
  {
   "cell_type": "code",
   "execution_count": 1,
   "metadata": {},
   "outputs": [
    {
     "name": "stdout",
     "output_type": "stream",
     "text": [
      "plotly is not installed\n"
     ]
    },
    {
     "ename": "ModuleNotFoundError",
     "evalue": "No module named 'pandas'",
     "output_type": "error",
     "traceback": [
      "\u001b[0;31m---------------------------------------------------------------------------\u001b[0m",
      "\u001b[0;31mModuleNotFoundError\u001b[0m                       Traceback (most recent call last)",
      "Cell \u001b[0;32mIn[1], line 12\u001b[0m\n\u001b[1;32m      9\u001b[0m \u001b[38;5;28;01mif\u001b[39;00m go \u001b[38;5;129;01mis\u001b[39;00m \u001b[38;5;28;01mNone\u001b[39;00m:\n\u001b[1;32m     10\u001b[0m     \u001b[38;5;28mprint\u001b[39m(\u001b[38;5;124m\"\u001b[39m\u001b[38;5;124mplotly is not installed\u001b[39m\u001b[38;5;124m\"\u001b[39m)\n\u001b[0;32m---> 12\u001b[0m \u001b[38;5;28;01mimport\u001b[39;00m\u001b[38;5;250m \u001b[39m\u001b[38;5;21;01mpandas\u001b[39;00m\u001b[38;5;250m \u001b[39m\u001b[38;5;28;01mas\u001b[39;00m\u001b[38;5;250m \u001b[39m\u001b[38;5;21;01mpd\u001b[39;00m\n\u001b[1;32m     13\u001b[0m \u001b[38;5;28;01mimport\u001b[39;00m\u001b[38;5;250m \u001b[39m\u001b[38;5;21;01mplotly\u001b[39;00m\u001b[38;5;21;01m.\u001b[39;00m\u001b[38;5;21;01mgraph_objects\u001b[39;00m\u001b[38;5;250m \u001b[39m\u001b[38;5;28;01mas\u001b[39;00m\u001b[38;5;250m \u001b[39m\u001b[38;5;21;01mgo\u001b[39;00m\n\u001b[1;32m     14\u001b[0m \u001b[38;5;28;01mfrom\u001b[39;00m\u001b[38;5;250m \u001b[39m\u001b[38;5;21;01mipywidgets\u001b[39;00m\u001b[38;5;250m \u001b[39m\u001b[38;5;28;01mimport\u001b[39;00m widgets\n",
      "\u001b[0;31mModuleNotFoundError\u001b[0m: No module named 'pandas'"
     ]
    }
   ],
   "source": [
    "# Import functions #\n",
    "import argparse,datetime,os,sys,time\n",
    "\n",
    "try:\n",
    "    import plotly.graph_objects as go\n",
    "except:\n",
    "    go = None  \n",
    "\n",
    "if go is None:\n",
    "    print(\"plotly is not installed\")\n",
    "\n",
    "import pandas as pd\n",
    "import plotly.graph_objects as go\n",
    "from ipywidgets import widgets\n",
    "\n",
    "from tools import load_groupfile, query_api, filterIQM, merge_dfs, make_vio_plot\n",
    "\n",
    "import ipywidgets as widgets\n",
    "from ipywidgets import interact, interact_manual"
   ]
  },
  {
   "cell_type": "code",
   "execution_count": null,
   "metadata": {},
   "outputs": [
    {
     "ename": "",
     "evalue": "",
     "output_type": "error",
     "traceback": [
      "\u001b[1;31mRunning cells with 'Python 3.12.7' requires the ipykernel package.\n",
      "\u001b[1;31mRun the following command to install 'ipykernel' into the Python environment. \n",
      "\u001b[1;31mCommand: '/opt/homebrew/bin/python3.12 -m pip install ipykernel -U --user --force-reinstall'"
     ]
    }
   ],
   "source": [
    "#define widgets\n",
    "#modality_widget=widgets.Dropdown(\n",
    "#    options=['bold', 'structural'],\n",
    "#    description='Modality:',\n",
    "#    disabled=False)\n",
    "\n",
    "\n",
    "modality_widget=widgets.RadioButtons(\n",
    "    options=['bold', 'structural'],\n",
    "    description='Modality:',\n",
    "    disabled=False\n",
    ")\n",
    "\n",
    "TR_min=widgets.FloatSlider(\n",
    "    min=1.5,\n",
    "    max=5,\n",
    "    step=0.1,\n",
    "    description='TR min:',\n",
    "    disabled=False,\n",
    "    continuous_update=False,\n",
    "    orientation='horizontal',\n",
    "    readout=True,\n",
    "    readout_format='',\n",
    "    slider_color='white',\n",
    "    color='black'\n",
    ")\n",
    "\n",
    "\n",
    "TR_max=widgets.FloatSlider(\n",
    "    min=1.5,\n",
    "    max=4,\n",
    "    step=0.1,\n",
    "    description='TR max:',\n",
    "    disabled=False,\n",
    "    continuous_update=False,\n",
    "    orientation='horizontal',\n",
    "    readout=True,\n",
    "    readout_format='',\n",
    "    slider_color='white',\n",
    "    color='black'\n",
    ")\n",
    "\n",
    "\n",
    "\n",
    "TE_min=widgets.FloatSlider(\n",
    "    min=0,\n",
    "    max=.05,\n",
    "    step=0.001,\n",
    "    description='TE min:',\n",
    "    disabled=False,\n",
    "    continuous_update=False,\n",
    "    orientation='horizontal',\n",
    "    readout=True,\n",
    "    readout_format='',\n",
    "    slider_color='white',\n",
    "    color='black'\n",
    ")\n",
    "\n",
    "\n",
    "TE_max=widgets.FloatSlider(\n",
    "    min=0,\n",
    "    max=.05,\n",
    "    step=0.001,\n",
    "    description='TE max:',\n",
    "    disabled=False,\n",
    "    continuous_update=False,\n",
    "    orientation='horizontal',\n",
    "    readout=True,\n",
    "    readout_format='',\n",
    "    slider_color='white',\n",
    "    color='black'\n",
    ")\n",
    "\n",
    "\n",
    "select_parameters=widgets.SelectMultiple(\n",
    "    options=['TR_min', 'TR_max', 'TE_min', 'TE_max'],\n",
    "    description='Parameters',\n",
    "    disabled=False)"
   ]
  },
  {
   "cell_type": "code",
   "execution_count": null,
   "metadata": {},
   "outputs": [
    {
     "ename": "",
     "evalue": "",
     "output_type": "error",
     "traceback": [
      "\u001b[1;31mRunning cells with 'Python 3.12.7' requires the ipykernel package.\n",
      "\u001b[1;31mRun the following command to install 'ipykernel' into the Python environment. \n",
      "\u001b[1;31mCommand: '/opt/homebrew/bin/python3.12 -m pip install ipykernel -U --user --force-reinstall'"
     ]
    }
   ],
   "source": [
    "display(modality_widget)"
   ]
  },
  {
   "cell_type": "code",
   "execution_count": null,
   "metadata": {},
   "outputs": [
    {
     "ename": "",
     "evalue": "",
     "output_type": "error",
     "traceback": [
      "\u001b[1;31mRunning cells with 'Python 3.12.7' requires the ipykernel package.\n",
      "\u001b[1;31mRun the following command to install 'ipykernel' into the Python environment. \n",
      "\u001b[1;31mCommand: '/opt/homebrew/bin/python3.12 -m pip install ipykernel -U --user --force-reinstall'"
     ]
    }
   ],
   "source": [
    "modal=modality_widget.value\n",
    "display(select_parameters)\n",
    "\"If empty, no parameter restrictions will applied\""
   ]
  },
  {
   "cell_type": "code",
   "execution_count": null,
   "metadata": {},
   "outputs": [
    {
     "ename": "",
     "evalue": "",
     "output_type": "error",
     "traceback": [
      "\u001b[1;31mRunning cells with 'Python 3.12.7' requires the ipykernel package.\n",
      "\u001b[1;31mRun the following command to install 'ipykernel' into the Python environment. \n",
      "\u001b[1;31mCommand: '/opt/homebrew/bin/python3.12 -m pip install ipykernel -U --user --force-reinstall'"
     ]
    }
   ],
   "source": [
    "for i in select_parameters.value:\n",
    "        display(eval(i))"
   ]
  },
  {
   "cell_type": "code",
   "execution_count": null,
   "metadata": {},
   "outputs": [
    {
     "ename": "",
     "evalue": "",
     "output_type": "error",
     "traceback": [
      "\u001b[1;31mRunning cells with 'Python 3.12.7' requires the ipykernel package.\n",
      "\u001b[1;31mRun the following command to install 'ipykernel' into the Python environment. \n",
      "\u001b[1;31mCommand: '/opt/homebrew/bin/python3.12 -m pip install ipykernel -U --user --force-reinstall'"
     ]
    }
   ],
   "source": [
    "to_filter=select_parameters.value\n",
    "filter_list=[]\n",
    "filter_dict={'TR_min': \"TR >= {}\".format(TR_min.value),\n",
    "             'TR_max': \"TR < {}\".format(TR_max.value),\n",
    "             'TE_min': \"TE >= {}\".format(TE_min.value),\n",
    "             'TE_max': \"TE < {}\".format(TE_max.value)\n",
    "            }\n",
    "\n",
    "for item in to_filter:\n",
    "    add_item=filter_dict.get(item)\n",
    "    filter_list.append(add_item)\n",
    "    \n",
    "print(filter_list)\n",
    "#filter_list= ['TR > 2.2', 'TR < 3']"
   ]
  },
  {
   "cell_type": "code",
   "execution_count": null,
   "metadata": {},
   "outputs": [
    {
     "ename": "",
     "evalue": "",
     "output_type": "error",
     "traceback": [
      "\u001b[1;31mRunning cells with 'Python 3.12.7' requires the ipykernel package.\n",
      "\u001b[1;31mRun the following command to install 'ipykernel' into the Python environment. \n",
      "\u001b[1;31mCommand: '/opt/homebrew/bin/python3.12 -m pip install ipykernel -U --user --force-reinstall'"
     ]
    }
   ],
   "source": [
    "# Arguments #\n",
    "\n",
    "# laziness helper\n",
    "# here = os.path.dirname(os.path.abspath(os.path.realpath(__file__)))\n",
    "here = %pwd\n",
    "\n",
    "# path to input of local data from MRIQC on your own dataset \n",
    "#group_file = os.path.join(here,'test_data', 'group_bold.tsv')\n",
    "group_file = os.path.join('/Users/cmelzer/VOLUMES/tnc_scratch/cmelzer/test/', 'mriqc_taoism', 'group_bold.tsv')\n",
    "\n",
    "# scan type to query the API for [bold, T1w, T2w]\n",
    "modality = 'bold'\n",
    "\n",
    "# any scan parameters that you want to filter the API search results by\n",
    "\"\"\"Current possible filters:\n",
    "   Tesla, TE, TR\n",
    "   NOTE: Only working as *and* right now!\n",
    "\"\"\"\n",
    "\n",
    "\n",
    "# IQM variables to visualize\n",
    "#need to add separate IQMs for structural and functional\n",
    "IQM_to_plot = ['aor','aqi','dummy_trs','dvars_nstd','dvars_std','dvars_vstd',\n",
    "                    'efc','fber','fd_mean','fd_num','fd_perc','fwhm_avg','fwhm_x','fwhm_y',\n",
    "                    'fwhm_z','gcor','gsr_x','gsr_y','snr','summary_bg_k','summary_bg_mad',\n",
    "                    'summary_bg_mean','summary_bg_median','summary_bg_n','summary_bg_p05',\n",
    "                    'summary_bg_p95','summary_bg_stdv','summary_fg_k','summary_fg_mad',\n",
    "                    'summary_fg_mean','summary_fg_median','summary_fg_n','summary_fg_p05',\n",
    "                    'summary_fg_p95','summary_fg_stdv','tsnr']"
   ]
  },
  {
   "cell_type": "code",
   "execution_count": null,
   "metadata": {},
   "outputs": [
    {
     "ename": "",
     "evalue": "",
     "output_type": "error",
     "traceback": [
      "\u001b[1;31mRunning cells with 'Python 3.12.7' requires the ipykernel package.\n",
      "\u001b[1;31mRun the following command to install 'ipykernel' into the Python environment. \n",
      "\u001b[1;31mCommand: '/opt/homebrew/bin/python3.12 -m pip install ipykernel -U --user --force-reinstall'"
     ]
    }
   ],
   "source": [
    "# Load in your own data # \n",
    "\n",
    "# This should be a .csv or .tsv file outputted from MRIQC on your own data\n",
    "# This will return a pandas dataframe of the MRIQC data from your experiment\n",
    "\n",
    "userdf = load_groupfile(group_file)\n",
    "# userdf.head()\n",
    "userdf.shape"
   ]
  },
  {
   "cell_type": "code",
   "execution_count": null,
   "metadata": {},
   "outputs": [
    {
     "ename": "",
     "evalue": "",
     "output_type": "error",
     "traceback": [
      "\u001b[1;31mRunning cells with 'Python 3.12.7' requires the ipykernel package.\n",
      "\u001b[1;31mRun the following command to install 'ipykernel' into the Python environment. \n",
      "\u001b[1;31mCommand: '/opt/homebrew/bin/python3.12 -m pip install ipykernel -U --user --force-reinstall'"
     ]
    }
   ],
   "source": [
    "# Load and filter data from the API # \n",
    "\n",
    "# Figure out which to get from modality arg #\n",
    "T1apicsv = os.path.join(here, 'demo_api', 'T1w_demo.csv')\n",
    "T2apicsv = os.path.join(here, 'demo_api', 'T2w_demo.csv')\n",
    "boldapicsv = os.path.join(here, 'demo_api', 'bold_demo.csv')\n",
    "d\n",
    "if modality == 'T1w':\n",
    "    api_file = T1apicsv\n",
    "elif modality == 'T2w':\n",
    "    api_file = T1apicsv\n",
    "elif modality == 'bold':\n",
    "    api_file = boldapicsv\n",
    "\n",
    "# This will return a pandas dataframe with data from all scans of the given scan type\n",
    "# with the given parameters \n",
    "\n",
    "apidf = pd.read_csv(api_file)\n",
    "if not filter_list == []:\n",
    "    filtered_apidf = filterIQM(apidf,filter_list)\n",
    "else:\n",
    "    filtered_apidf = apidf\n",
    "\n",
    "# apidf.head()\n",
    "print(apidf.shape)\n",
    "# filtered_apidf.head()\n",
    "print(filtered_apidf.shape)\n",
    "#print(list(filtered_apidf))"
   ]
  },
  {
   "cell_type": "code",
   "execution_count": null,
   "metadata": {},
   "outputs": [
    {
     "ename": "",
     "evalue": "",
     "output_type": "error",
     "traceback": [
      "\u001b[1;31mRunning cells with 'Python 3.12.7' requires the ipykernel package.\n",
      "\u001b[1;31mRun the following command to install 'ipykernel' into the Python environment. \n",
      "\u001b[1;31mCommand: '/opt/homebrew/bin/python3.12 -m pip install ipykernel -U --user --force-reinstall'"
     ]
    }
   ],
   "source": [
    "# Merge dataframes # \n",
    "\n",
    "# Takes the user data and API data and merges it into one dataframe \n",
    "# This will return a single pandas dataframe with the local data and API data merged, with a \"group\" measure to allow for a \"groupby\" \n",
    "# this needs to be updated with actual function name and information about how to use  \n",
    "\n",
    "vis_ready_df = merge_dfs(userdf.copy(), filtered_apidf.copy())\n",
    "#print(vis_ready_df.head())\n",
    "#print(vis_ready_df.tail())\n",
    "vis_ready_df.shape\n",
    "\n"
   ]
  },
  {
   "cell_type": "markdown",
   "metadata": {},
   "source": [
    "### Color coding\n",
    "Families of IQMs are color-coded. In each plot, the API data is shown in dark gray, and the user's data is shown in the appropriate color. \n",
    "- spatial IQMs: gold\n",
    "- temporal IQMs: orange\n",
    "- noise IQMs: red\n",
    "- motion IQMs: green\n",
    "- artifact IQMs: light blue\n",
    "- descriptive IQMs: dark blue\n",
    "- other IQMs: purple"
   ]
  },
  {
   "cell_type": "code",
   "execution_count": null,
   "metadata": {},
   "outputs": [
    {
     "ename": "",
     "evalue": "",
     "output_type": "error",
     "traceback": [
      "\u001b[1;31mRunning cells with 'Python 3.12.7' requires the ipykernel package.\n",
      "\u001b[1;31mRun the following command to install 'ipykernel' into the Python environment. \n",
      "\u001b[1;31mCommand: '/opt/homebrew/bin/python3.12 -m pip install ipykernel -U --user --force-reinstall'"
     ]
    }
   ],
   "source": [
    "# Visualization # \n",
    "\n",
    "# Create a violin plot of the MRIQC metrics, comparing user level-data to API data \n",
    "# Also will print out a short description of the measure and what the appropriate range/values should be \n",
    "# Input the merged dataframe including the API and user data\n",
    "# Optional arguments include a list of specific variables that the user wants displayed \n",
    "# If no optional arguments included, will plot all measures \n",
    "\n",
    "v = make_vio_plot(vis_ready_df,IQM_to_plot,\"\",outliers=True)\n",
    "\n",
    "widgets.VBox([v[0],v[1]])\n"
   ]
  },
  {
   "cell_type": "code",
   "execution_count": null,
   "metadata": {},
   "outputs": [
    {
     "ename": "",
     "evalue": "",
     "output_type": "error",
     "traceback": [
      "\u001b[1;31mRunning cells with 'Python 3.12.7' requires the ipykernel package.\n",
      "\u001b[1;31mRun the following command to install 'ipykernel' into the Python environment. \n",
      "\u001b[1;31mCommand: '/opt/homebrew/bin/python3.12 -m pip install ipykernel -U --user --force-reinstall'"
     ]
    }
   ],
   "source": []
  }
 ],
 "metadata": {
  "kernelspec": {
   "display_name": "Python 3",
   "language": "python",
   "name": "python3"
  },
  "language_info": {
   "codemirror_mode": {
    "name": "ipython",
    "version": 3
   },
   "file_extension": ".py",
   "mimetype": "text/x-python",
   "name": "python",
   "nbconvert_exporter": "python",
   "pygments_lexer": "ipython3",
   "version": "3.13.0"
  }
 },
 "nbformat": 4,
 "nbformat_minor": 2
}
